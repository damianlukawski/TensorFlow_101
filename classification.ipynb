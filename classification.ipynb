{
  "nbformat": 4,
  "nbformat_minor": 0,
  "metadata": {
    "colab": {
      "name": "classification.ipynb",
      "provenance": [],
      "collapsed_sections": [],
      "authorship_tag": "ABX9TyPxB2Aug8aCO66nToDaG0Rh",
      "include_colab_link": true
    },
    "kernelspec": {
      "name": "python3",
      "display_name": "Python 3"
    }
  },
  "cells": [
    {
      "cell_type": "markdown",
      "metadata": {
        "id": "view-in-github",
        "colab_type": "text"
      },
      "source": [
        "<a href=\"https://colab.research.google.com/github/damianlukawski/TensorFlow_101/blob/main/classification.ipynb\" target=\"_parent\"><img src=\"https://colab.research.google.com/assets/colab-badge.svg\" alt=\"Open In Colab\"/></a>"
      ]
    },
    {
      "cell_type": "code",
      "metadata": {
        "id": "LPtatdxephxV",
        "outputId": "d25c8813-f0c8-4a08-fae2-aa680a388732",
        "colab": {
          "base_uri": "https://localhost:8080/",
          "height": 98
        }
      },
      "source": [
        "%tensorflow_version 2.x  # this line is not required unless you are in a notebook"
      ],
      "execution_count": 1,
      "outputs": [
        {
          "output_type": "stream",
          "text": [
            "`%tensorflow_version` only switches the major version: 1.x or 2.x.\n",
            "You set: `2.x  # this line is not required unless you are in a notebook`. This will be interpreted as: `2.x`.\n",
            "\n",
            "\n",
            "TensorFlow 2.x selected.\n"
          ],
          "name": "stdout"
        }
      ]
    },
    {
      "cell_type": "code",
      "metadata": {
        "id": "JO_bL9LuHGiq"
      },
      "source": [
        ""
      ],
      "execution_count": 1,
      "outputs": []
    },
    {
      "cell_type": "code",
      "metadata": {
        "id": "632xpBHAHQz1"
      },
      "source": [
        ""
      ],
      "execution_count": 1,
      "outputs": []
    },
    {
      "cell_type": "code",
      "metadata": {
        "id": "L7n02neup9J0"
      },
      "source": [
        "from __future__ import absolute_import, division, print_function, unicode_literals\n",
        "\n",
        "\n",
        "import tensorflow as tf\n",
        "\n",
        "import pandas as pd"
      ],
      "execution_count": 2,
      "outputs": []
    },
    {
      "cell_type": "code",
      "metadata": {
        "id": "vea9I_GSp-h0"
      },
      "source": [
        "CSV_COLUMN_NAMES = ['SepalLength', 'SepalWidth', 'PetalLength', 'PetalWidth', 'Species']\n",
        "SPECIES = ['Setosa', 'Versicolor', 'Virginica']\n",
        "# Lets define some constants to help us later on"
      ],
      "execution_count": 3,
      "outputs": []
    },
    {
      "cell_type": "code",
      "metadata": {
        "id": "kMlLUNUyq82s",
        "outputId": "68f0557c-401e-4c78-f1d6-72bf80a5b46e",
        "colab": {
          "base_uri": "https://localhost:8080/",
          "height": 102
        }
      },
      "source": [
        "train_path = tf.keras.utils.get_file(\n",
        "    \"iris_training.csv\", \"https://storage.googleapis.com/download.tensorflow.org/data/iris_training.csv\")\n",
        "test_path = tf.keras.utils.get_file(\n",
        "    \"iris_test.csv\", \"https://storage.googleapis.com/download.tensorflow.org/data/iris_test.csv\")\n",
        "\n",
        "train = pd.read_csv(train_path, names=CSV_COLUMN_NAMES, header=0)\n",
        "test = pd.read_csv(test_path, names=CSV_COLUMN_NAMES, header=0)\n",
        "# Here we use keras (a module inside of TensorFlow) to grab our datasets and read them into a pandas dataframe"
      ],
      "execution_count": 4,
      "outputs": [
        {
          "output_type": "stream",
          "text": [
            "Downloading data from https://storage.googleapis.com/download.tensorflow.org/data/iris_training.csv\n",
            "\r8192/2194 [================================================================================================================] - 0s 0us/step\n",
            "Downloading data from https://storage.googleapis.com/download.tensorflow.org/data/iris_test.csv\n",
            "8192/573 [============================================================================================================================================================================================================================================================================================================================================================================================================================================] - 0s 0us/step\n"
          ],
          "name": "stdout"
        }
      ]
    },
    {
      "cell_type": "code",
      "metadata": {
        "id": "A5y3lJsRrH8h",
        "outputId": "e854f947-30fc-4efa-b04c-7c9dacf72400",
        "colab": {
          "base_uri": "https://localhost:8080/",
          "height": 245
        }
      },
      "source": [
        "train.head"
      ],
      "execution_count": 5,
      "outputs": [
        {
          "output_type": "execute_result",
          "data": {
            "text/plain": [
              "<bound method NDFrame.head of      SepalLength  SepalWidth  PetalLength  PetalWidth  Species\n",
              "0            6.4         2.8          5.6         2.2        2\n",
              "1            5.0         2.3          3.3         1.0        1\n",
              "2            4.9         2.5          4.5         1.7        2\n",
              "3            4.9         3.1          1.5         0.1        0\n",
              "4            5.7         3.8          1.7         0.3        0\n",
              "..           ...         ...          ...         ...      ...\n",
              "115          5.5         2.6          4.4         1.2        1\n",
              "116          5.7         3.0          4.2         1.2        1\n",
              "117          4.4         2.9          1.4         0.2        0\n",
              "118          4.8         3.0          1.4         0.1        0\n",
              "119          5.5         2.4          3.7         1.0        1\n",
              "\n",
              "[120 rows x 5 columns]>"
            ]
          },
          "metadata": {
            "tags": []
          },
          "execution_count": 5
        }
      ]
    },
    {
      "cell_type": "code",
      "metadata": {
        "id": "L5fWZq3Rumwm",
        "outputId": "80f79739-f6d0-4fbb-9d94-6e125529ba16",
        "colab": {
          "base_uri": "https://localhost:8080/",
          "height": 33
        }
      },
      "source": [
        "train.shape"
      ],
      "execution_count": 6,
      "outputs": [
        {
          "output_type": "execute_result",
          "data": {
            "text/plain": [
              "(120, 5)"
            ]
          },
          "metadata": {
            "tags": []
          },
          "execution_count": 6
        }
      ]
    },
    {
      "cell_type": "code",
      "metadata": {
        "id": "6bHpo-1Mupel",
        "outputId": "289b76f8-7901-4f85-fe35-d7e715f897ea",
        "colab": {
          "base_uri": "https://localhost:8080/",
          "height": 191
        }
      },
      "source": [
        "train_y = train.pop('Species')\n",
        "test_y = test.pop('Species')\n",
        "train.head() # the species column is now gone"
      ],
      "execution_count": 7,
      "outputs": [
        {
          "output_type": "execute_result",
          "data": {
            "text/html": [
              "<div>\n",
              "<style scoped>\n",
              "    .dataframe tbody tr th:only-of-type {\n",
              "        vertical-align: middle;\n",
              "    }\n",
              "\n",
              "    .dataframe tbody tr th {\n",
              "        vertical-align: top;\n",
              "    }\n",
              "\n",
              "    .dataframe thead th {\n",
              "        text-align: right;\n",
              "    }\n",
              "</style>\n",
              "<table border=\"1\" class=\"dataframe\">\n",
              "  <thead>\n",
              "    <tr style=\"text-align: right;\">\n",
              "      <th></th>\n",
              "      <th>SepalLength</th>\n",
              "      <th>SepalWidth</th>\n",
              "      <th>PetalLength</th>\n",
              "      <th>PetalWidth</th>\n",
              "    </tr>\n",
              "  </thead>\n",
              "  <tbody>\n",
              "    <tr>\n",
              "      <th>0</th>\n",
              "      <td>6.4</td>\n",
              "      <td>2.8</td>\n",
              "      <td>5.6</td>\n",
              "      <td>2.2</td>\n",
              "    </tr>\n",
              "    <tr>\n",
              "      <th>1</th>\n",
              "      <td>5.0</td>\n",
              "      <td>2.3</td>\n",
              "      <td>3.3</td>\n",
              "      <td>1.0</td>\n",
              "    </tr>\n",
              "    <tr>\n",
              "      <th>2</th>\n",
              "      <td>4.9</td>\n",
              "      <td>2.5</td>\n",
              "      <td>4.5</td>\n",
              "      <td>1.7</td>\n",
              "    </tr>\n",
              "    <tr>\n",
              "      <th>3</th>\n",
              "      <td>4.9</td>\n",
              "      <td>3.1</td>\n",
              "      <td>1.5</td>\n",
              "      <td>0.1</td>\n",
              "    </tr>\n",
              "    <tr>\n",
              "      <th>4</th>\n",
              "      <td>5.7</td>\n",
              "      <td>3.8</td>\n",
              "      <td>1.7</td>\n",
              "      <td>0.3</td>\n",
              "    </tr>\n",
              "  </tbody>\n",
              "</table>\n",
              "</div>"
            ],
            "text/plain": [
              "   SepalLength  SepalWidth  PetalLength  PetalWidth\n",
              "0          6.4         2.8          5.6         2.2\n",
              "1          5.0         2.3          3.3         1.0\n",
              "2          4.9         2.5          4.5         1.7\n",
              "3          4.9         3.1          1.5         0.1\n",
              "4          5.7         3.8          1.7         0.3"
            ]
          },
          "metadata": {
            "tags": []
          },
          "execution_count": 7
        }
      ]
    },
    {
      "cell_type": "code",
      "metadata": {
        "id": "wlavf--Wvioh"
      },
      "source": [
        "def input_fn(features, labels, training=True, batch_size=256):\n",
        "    # Convert the inputs to a Dataset.\n",
        "    dataset = tf.data.Dataset.from_tensor_slices((dict(features), labels))\n",
        "\n",
        "    # Shuffle and repeat if you are in training mode.\n",
        "    if training:\n",
        "        dataset = dataset.shuffle(1000).repeat()\n",
        "    \n",
        "    return dataset.batch(batch_size)"
      ],
      "execution_count": 8,
      "outputs": []
    },
    {
      "cell_type": "code",
      "metadata": {
        "id": "FQ6gEVBdHSMT"
      },
      "source": [
        "import matplotlib.pyplot as plt\n",
        "import numpy as np"
      ],
      "execution_count": 9,
      "outputs": []
    },
    {
      "cell_type": "code",
      "metadata": {
        "id": "zrrcFoOTHzsb"
      },
      "source": [
        "#plt.plot(train['SepalLength'], train_y, \"go\")\n",
        "#plt.plot(train['PetalWidth'], train_y, \"go\")\n",
        "train_xy=pd.concat([train, train_y], axis=1).groupby('Species').PetalWidth.mean()\n",
        "train_xerr=pd.concat([train, train_y], axis=1).groupby('Species').PetalWidth.std()\n",
        "#pd.concat([train, train_y], axis=1).groupby('Species').PetalWidth.mean().plot(kind='barh')\n",
        "#plt.xlim([2.5, 3.5])\n",
        "\n"
      ],
      "execution_count": 10,
      "outputs": []
    },
    {
      "cell_type": "code",
      "metadata": {
        "id": "7Nm4O4VlH-o8",
        "outputId": "9de8d4f8-73ad-4e1b-9901-ea644baae76a",
        "colab": {
          "base_uri": "https://localhost:8080/",
          "height": 281
        }
      },
      "source": [
        "train_xy.plot(kind='barh', xerr=train_xerr)"
      ],
      "execution_count": 11,
      "outputs": [
        {
          "output_type": "execute_result",
          "data": {
            "text/plain": [
              "<matplotlib.axes._subplots.AxesSubplot at 0x7fe9d89301d0>"
            ]
          },
          "metadata": {
            "tags": []
          },
          "execution_count": 11
        },
        {
          "output_type": "display_data",
          "data": {
            "image/png": "[encoded data removed]",
            "text/plain": [
              "<Figure size 432x288 with 1 Axes>"
            ]
          },
          "metadata": {
            "tags": [],
            "needs_background": "light"
          }
        }
      ]
    },
    {
      "cell_type": "code",
      "metadata": {
        "id": "41TaE9RTJFJI",
        "outputId": "4329466e-4dfb-48e4-f7b8-cc072b8bbb1b",
        "colab": {
          "base_uri": "https://localhost:8080/",
          "height": 53
        }
      },
      "source": [
        "# Feature columns describe how to use the input.\n",
        "my_feature_columns = []\n",
        "for key in train.keys():\n",
        "    my_feature_columns.append(tf.feature_column.numeric_column(key=key))\n",
        "print(my_feature_columns)"
      ],
      "execution_count": 12,
      "outputs": [
        {
          "output_type": "stream",
          "text": [
            "[NumericColumn(key='SepalLength', shape=(1,), default_value=None, dtype=tf.float32, normalizer_fn=None), NumericColumn(key='SepalWidth', shape=(1,), default_value=None, dtype=tf.float32, normalizer_fn=None), NumericColumn(key='PetalLength', shape=(1,), default_value=None, dtype=tf.float32, normalizer_fn=None), NumericColumn(key='PetalWidth', shape=(1,), default_value=None, dtype=tf.float32, normalizer_fn=None)]\n"
          ],
          "name": "stdout"
        }
      ]
    },
    {
      "cell_type": "code",
      "metadata": {
        "id": "AqTYcqJwJG4r",
        "outputId": "a9a4de6f-b5f1-4368-b24b-14fb8a6139ba",
        "colab": {
          "base_uri": "https://localhost:8080/",
          "height": 183
        }
      },
      "source": [
        "# Build a DNN with 2 hidden layers with 30 and 10 hidden nodes each.\n",
        "classifier = tf.estimator.DNNClassifier(\n",
        "    feature_columns=my_feature_columns,\n",
        "    # Two hidden layers of 30 and 10 nodes respectively.\n",
        "    hidden_units=[30, 10],\n",
        "    # The model must choose between 3 classes.\n",
        "    n_classes=3)"
      ],
      "execution_count": 13,
      "outputs": [
        {
          "output_type": "stream",
          "text": [
            "INFO:tensorflow:Using default config.\n",
            "WARNING:tensorflow:Using temporary folder as model directory: /tmp/tmp6843513f\n",
            "INFO:tensorflow:Using config: {'_model_dir': '/tmp/tmp6843513f', '_tf_random_seed': None, '_save_summary_steps': 100, '_save_checkpoints_steps': None, '_save_checkpoints_secs': 600, '_session_config': allow_soft_placement: true\n",
            "graph_options {\n",
            "  rewrite_options {\n",
            "    meta_optimizer_iterations: ONE\n",
            "  }\n",
            "}\n",
            ", '_keep_checkpoint_max': 5, '_keep_checkpoint_every_n_hours': 10000, '_log_step_count_steps': 100, '_train_distribute': None, '_device_fn': None, '_protocol': None, '_eval_distribute': None, '_experimental_distribute': None, '_experimental_max_worker_delay_secs': None, '_session_creation_timeout_secs': 7200, '_service': None, '_cluster_spec': ClusterSpec({}), '_task_type': 'worker', '_task_id': 0, '_global_id_in_cluster': 0, '_master': '', '_evaluation_master': '', '_is_chief': True, '_num_ps_replicas': 0, '_num_worker_replicas': 1}\n"
          ],
          "name": "stdout"
        }
      ]
    },
    {
      "cell_type": "code",
      "metadata": {
        "id": "ADjsCs58JsK9",
        "outputId": "21d73215-bab6-4612-ec59-2497a781f9f4",
        "colab": {
          "base_uri": "https://localhost:8080/",
          "height": 1000
        }
      },
      "source": [
        "classifier.train(\n",
        "    input_fn=lambda: input_fn(train, train_y, training=True),\n",
        "    steps=5000)\n",
        "# We include a lambda to avoid creating an inner function previously"
      ],
      "execution_count": 18,
      "outputs": [
        {
          "output_type": "stream",
          "text": [
            "INFO:tensorflow:Calling model_fn.\n",
            "WARNING:tensorflow:Layer dnn is casting an input tensor from dtype float64 to the layer's dtype of float32, which is new behavior in TensorFlow 2.  The layer has dtype float32 because its dtype defaults to floatx.\n",
            "\n",
            "If you intended to run this layer in float32, you can safely ignore this warning. If in doubt, this warning is likely only an issue if you are porting a TensorFlow 1.X model to TensorFlow 2.\n",
            "\n",
            "To change all layers to have dtype float64 by default, call `tf.keras.backend.set_floatx('float64')`. To change just this layer, pass dtype='float64' to the layer constructor. If you are the author of this layer, you can disable autocasting by passing autocast=False to the base Layer constructor.\n",
            "\n",
            "INFO:tensorflow:Done calling model_fn.\n",
            "INFO:tensorflow:Create CheckpointSaverHook.\n",
            "INFO:tensorflow:Graph was finalized.\n",
            "INFO:tensorflow:Restoring parameters from /tmp/tmp6843513f/model.ckpt-10000\n",
            "INFO:tensorflow:Running local_init_op.\n",
            "INFO:tensorflow:Done running local_init_op.\n",
            "INFO:tensorflow:Calling checkpoint listeners before saving checkpoint 10000...\n",
            "INFO:tensorflow:Saving checkpoints for 10000 into /tmp/tmp6843513f/model.ckpt.\n",
            "INFO:tensorflow:Calling checkpoint listeners after saving checkpoint 10000...\n",
            "INFO:tensorflow:loss = 0.22417267, step = 10000\n",
            "INFO:tensorflow:global_step/sec: 476.771\n",
            "INFO:tensorflow:loss = 0.21965235, step = 10100 (0.214 sec)\n",
            "INFO:tensorflow:global_step/sec: 603.834\n",
            "INFO:tensorflow:loss = 0.22221068, step = 10200 (0.163 sec)\n",
            "INFO:tensorflow:global_step/sec: 597.912\n",
            "INFO:tensorflow:loss = 0.2140021, step = 10300 (0.171 sec)\n",
            "INFO:tensorflow:global_step/sec: 603.016\n",
            "INFO:tensorflow:loss = 0.21633303, step = 10400 (0.164 sec)\n",
            "INFO:tensorflow:global_step/sec: 592.325\n",
            "INFO:tensorflow:loss = 0.20651163, step = 10500 (0.166 sec)\n",
            "INFO:tensorflow:global_step/sec: 610.951\n",
            "INFO:tensorflow:loss = 0.21742901, step = 10600 (0.164 sec)\n",
            "INFO:tensorflow:global_step/sec: 573.469\n",
            "INFO:tensorflow:loss = 0.20284276, step = 10700 (0.174 sec)\n",
            "INFO:tensorflow:global_step/sec: 579.836\n",
            "INFO:tensorflow:loss = 0.2133208, step = 10800 (0.173 sec)\n",
            "INFO:tensorflow:global_step/sec: 587.323\n",
            "INFO:tensorflow:loss = 0.20616488, step = 10900 (0.171 sec)\n",
            "INFO:tensorflow:global_step/sec: 595.149\n",
            "INFO:tensorflow:loss = 0.19962636, step = 11000 (0.170 sec)\n",
            "INFO:tensorflow:global_step/sec: 604.403\n",
            "INFO:tensorflow:loss = 0.21085599, step = 11100 (0.163 sec)\n",
            "INFO:tensorflow:global_step/sec: 598.288\n",
            "INFO:tensorflow:loss = 0.20228434, step = 11200 (0.167 sec)\n",
            "INFO:tensorflow:global_step/sec: 602.369\n",
            "INFO:tensorflow:loss = 0.1927412, step = 11300 (0.166 sec)\n",
            "INFO:tensorflow:global_step/sec: 577.153\n",
            "INFO:tensorflow:loss = 0.2114924, step = 11400 (0.175 sec)\n",
            "INFO:tensorflow:global_step/sec: 600.37\n",
            "INFO:tensorflow:loss = 0.20193833, step = 11500 (0.170 sec)\n",
            "INFO:tensorflow:global_step/sec: 569.571\n",
            "INFO:tensorflow:loss = 0.204126, step = 11600 (0.170 sec)\n",
            "INFO:tensorflow:global_step/sec: 580.326\n",
            "INFO:tensorflow:loss = 0.20491445, step = 11700 (0.172 sec)\n",
            "INFO:tensorflow:global_step/sec: 613.633\n",
            "INFO:tensorflow:loss = 0.1996066, step = 11800 (0.163 sec)\n",
            "INFO:tensorflow:global_step/sec: 566.585\n",
            "INFO:tensorflow:loss = 0.19671956, step = 11900 (0.179 sec)\n",
            "INFO:tensorflow:global_step/sec: 611.46\n",
            "INFO:tensorflow:loss = 0.19374008, step = 12000 (0.163 sec)\n",
            "INFO:tensorflow:global_step/sec: 596.667\n",
            "INFO:tensorflow:loss = 0.19190228, step = 12100 (0.166 sec)\n",
            "INFO:tensorflow:global_step/sec: 601.964\n",
            "INFO:tensorflow:loss = 0.19116884, step = 12200 (0.168 sec)\n",
            "INFO:tensorflow:global_step/sec: 608.924\n",
            "INFO:tensorflow:loss = 0.18815362, step = 12300 (0.164 sec)\n",
            "INFO:tensorflow:global_step/sec: 602.356\n",
            "INFO:tensorflow:loss = 0.1949389, step = 12400 (0.164 sec)\n",
            "INFO:tensorflow:global_step/sec: 589.171\n",
            "INFO:tensorflow:loss = 0.19370592, step = 12500 (0.170 sec)\n",
            "INFO:tensorflow:global_step/sec: 597.238\n",
            "INFO:tensorflow:loss = 0.19131425, step = 12600 (0.168 sec)\n",
            "INFO:tensorflow:global_step/sec: 597.791\n",
            "INFO:tensorflow:loss = 0.19282831, step = 12700 (0.165 sec)\n",
            "INFO:tensorflow:global_step/sec: 589.785\n",
            "INFO:tensorflow:loss = 0.17947368, step = 12800 (0.170 sec)\n",
            "INFO:tensorflow:global_step/sec: 533.135\n",
            "INFO:tensorflow:loss = 0.18688646, step = 12900 (0.190 sec)\n",
            "INFO:tensorflow:global_step/sec: 578.217\n",
            "INFO:tensorflow:loss = 0.1852447, step = 13000 (0.170 sec)\n",
            "INFO:tensorflow:global_step/sec: 586.555\n",
            "INFO:tensorflow:loss = 0.1789332, step = 13100 (0.171 sec)\n",
            "INFO:tensorflow:global_step/sec: 592.607\n",
            "INFO:tensorflow:loss = 0.18686768, step = 13200 (0.169 sec)\n",
            "INFO:tensorflow:global_step/sec: 573.644\n",
            "INFO:tensorflow:loss = 0.18157326, step = 13300 (0.175 sec)\n",
            "INFO:tensorflow:global_step/sec: 619.724\n",
            "INFO:tensorflow:loss = 0.18683815, step = 13400 (0.161 sec)\n",
            "INFO:tensorflow:global_step/sec: 597.271\n",
            "INFO:tensorflow:loss = 0.19192646, step = 13500 (0.167 sec)\n",
            "INFO:tensorflow:global_step/sec: 615.67\n",
            "INFO:tensorflow:loss = 0.1798473, step = 13600 (0.163 sec)\n",
            "INFO:tensorflow:global_step/sec: 591.195\n",
            "INFO:tensorflow:loss = 0.17559904, step = 13700 (0.170 sec)\n",
            "INFO:tensorflow:global_step/sec: 583.694\n",
            "INFO:tensorflow:loss = 0.17780992, step = 13800 (0.173 sec)\n",
            "INFO:tensorflow:global_step/sec: 604.631\n",
            "INFO:tensorflow:loss = 0.1752108, step = 13900 (0.164 sec)\n",
            "INFO:tensorflow:global_step/sec: 547.355\n",
            "INFO:tensorflow:loss = 0.16770914, step = 14000 (0.182 sec)\n",
            "INFO:tensorflow:global_step/sec: 615.451\n",
            "INFO:tensorflow:loss = 0.16735004, step = 14100 (0.163 sec)\n",
            "INFO:tensorflow:global_step/sec: 585.994\n",
            "INFO:tensorflow:loss = 0.1704058, step = 14200 (0.171 sec)\n",
            "INFO:tensorflow:global_step/sec: 589.528\n",
            "INFO:tensorflow:loss = 0.17178425, step = 14300 (0.172 sec)\n",
            "INFO:tensorflow:global_step/sec: 592.48\n",
            "INFO:tensorflow:loss = 0.17732418, step = 14400 (0.169 sec)\n",
            "INFO:tensorflow:global_step/sec: 585.645\n",
            "INFO:tensorflow:loss = 0.1691444, step = 14500 (0.172 sec)\n",
            "INFO:tensorflow:global_step/sec: 604.118\n",
            "INFO:tensorflow:loss = 0.16648996, step = 14600 (0.165 sec)\n",
            "INFO:tensorflow:global_step/sec: 592.604\n",
            "INFO:tensorflow:loss = 0.16556469, step = 14700 (0.166 sec)\n",
            "INFO:tensorflow:global_step/sec: 615.701\n",
            "INFO:tensorflow:loss = 0.16894782, step = 14800 (0.166 sec)\n",
            "INFO:tensorflow:global_step/sec: 588.376\n",
            "INFO:tensorflow:loss = 0.1714909, step = 14900 (0.168 sec)\n",
            "INFO:tensorflow:Calling checkpoint listeners before saving checkpoint 15000...\n",
            "INFO:tensorflow:Saving checkpoints for 15000 into /tmp/tmp6843513f/model.ckpt.\n",
            "INFO:tensorflow:Calling checkpoint listeners after saving checkpoint 15000...\n",
            "INFO:tensorflow:Loss for final step: 0.16311738.\n"
          ],
          "name": "stdout"
        },
        {
          "output_type": "execute_result",
          "data": {
            "text/plain": [
              "<tensorflow_estimator.python.estimator.canned.dnn.DNNClassifierV2 at 0x7fe9d88720f0>"
            ]
          },
          "metadata": {
            "tags": []
          },
          "execution_count": 18
        }
      ]
    },
    {
      "cell_type": "code",
      "metadata": {
        "id": "l0yN-2T9LZ0A",
        "outputId": "3ceabd82-f10d-4207-815c-0729b11ef943",
        "colab": {
          "base_uri": "https://localhost:8080/",
          "height": 362
        }
      },
      "source": [
        "eval_result = classifier.evaluate(\n",
        "    input_fn=lambda: input_fn(test, test_y, training=False))\n",
        "\n",
        "print('\\nTest set accuracy: {accuracy:0.3f}\\n'.format(**eval_result))"
      ],
      "execution_count": 20,
      "outputs": [
        {
          "output_type": "stream",
          "text": [
            "INFO:tensorflow:Calling model_fn.\n",
            "WARNING:tensorflow:Layer dnn is casting an input tensor from dtype float64 to the layer's dtype of float32, which is new behavior in TensorFlow 2.  The layer has dtype float32 because its dtype defaults to floatx.\n",
            "\n",
            "If you intended to run this layer in float32, you can safely ignore this warning. If in doubt, this warning is likely only an issue if you are porting a TensorFlow 1.X model to TensorFlow 2.\n",
            "\n",
            "To change all layers to have dtype float64 by default, call `tf.keras.backend.set_floatx('float64')`. To change just this layer, pass dtype='float64' to the layer constructor. If you are the author of this layer, you can disable autocasting by passing autocast=False to the base Layer constructor.\n",
            "\n",
            "INFO:tensorflow:Done calling model_fn.\n",
            "INFO:tensorflow:Starting evaluation at 2020-10-04T05:59:24Z\n",
            "INFO:tensorflow:Graph was finalized.\n",
            "INFO:tensorflow:Restoring parameters from /tmp/tmp6843513f/model.ckpt-15000\n",
            "INFO:tensorflow:Running local_init_op.\n",
            "INFO:tensorflow:Done running local_init_op.\n",
            "INFO:tensorflow:Inference Time : 0.34133s\n",
            "INFO:tensorflow:Finished evaluation at 2020-10-04-05:59:24\n",
            "INFO:tensorflow:Saving dict for global step 15000: accuracy = 0.96666664, average_loss = 0.1834735, global_step = 15000, loss = 0.1834735\n",
            "INFO:tensorflow:Saving 'checkpoint_path' summary for global step 15000: /tmp/tmp6843513f/model.ckpt-15000\n",
            "\n",
            "Test set accuracy: 0.967\n",
            "\n"
          ],
          "name": "stdout"
        }
      ]
    },
    {
      "cell_type": "code",
      "metadata": {
        "id": "MkmNtyhzMwm3",
        "outputId": "433da179-5c8c-40c4-f138-3e0cf4c5d9e0",
        "colab": {
          "base_uri": "https://localhost:8080/",
          "height": 391
        }
      },
      "source": [
        "def input_fn(features, batch_size=256):\n",
        "    # Convert the inputs to a Dataset without labels.\n",
        "    return tf.data.Dataset.from_tensor_slices(dict(features)).batch(batch_size)\n",
        "\n",
        "features = ['SepalLength', 'SepalWidth', 'PetalLength', 'PetalWidth']\n",
        "predict = {}\n",
        "\n",
        "print(\"Please type numeric values as prompted.\")\n",
        "for feature in features:\n",
        "  valid = True\n",
        "  while valid: \n",
        "    val = input(feature + \": \")\n",
        "    if not val.isdigit(): valid = False\n",
        "\n",
        "  predict[feature] = [float(val)]\n",
        "\n",
        "predictions = classifier.predict(input_fn=lambda: input_fn(predict))\n",
        "for pred_dict in predictions:\n",
        "    class_id = pred_dict['class_ids'][0]\n",
        "    probability = pred_dict['probabilities'][class_id]\n",
        "\n",
        "    print('Prediction is \"{}\" ({:.1f}%)'.format(\n",
        "        SPECIES[class_id], 100 * probability))"
      ],
      "execution_count": 21,
      "outputs": [
        {
          "output_type": "stream",
          "text": [
            "Please type numeric values as prompted.\n",
            "SepalLength: 3\n",
            "SepalLength: 6\n",
            "SepalLength: 2\n",
            "SepalLength: 7\n",
            "SepalLength: 4\n",
            "SepalLength: 1\n",
            "SepalLength: 33\n",
            "SepalLength: 1\n",
            "SepalLength: 2\n",
            "SepalLength: 3\n",
            "SepalLength: 4\n",
            "SepalLength: 2.3\n",
            "SepalWidth: 1.1\n",
            "PetalLength: 5.0\n",
            "PetalWidth: 2.0\n",
            "INFO:tensorflow:Calling model_fn.\n",
            "INFO:tensorflow:Done calling model_fn.\n",
            "INFO:tensorflow:Graph was finalized.\n",
            "INFO:tensorflow:Restoring parameters from /tmp/tmp6843513f/model.ckpt-15000\n",
            "INFO:tensorflow:Running local_init_op.\n",
            "INFO:tensorflow:Done running local_init_op.\n",
            "Prediction is \"Virginica\" (90.2%)\n"
          ],
          "name": "stdout"
        }
      ]
    }
  ]
}